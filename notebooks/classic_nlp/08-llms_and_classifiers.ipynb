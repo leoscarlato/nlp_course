{
 "cells": [
  {
   "cell_type": "markdown",
   "metadata": {},
   "source": [
    "# TEST 1: Leveraging LLMs for Feature Generation and Classification\n",
    "\n",
    "Typically, if our data has $N$ features, we need around $10N$ data items to reach peak performance with classic classifiers like Logistic Regression. Therefore, if our vocabulary has 10,000 words, we would need around 1 million items in the training set to reach peak performance.\n",
    "\n",
    "An interesting idea regarding this was explored in 2024 in [Balek, V., S'ykora, L., Sklen'ak, V., & Kliegr, T. (2024). LLM-based feature generation from text for interpretable machine learning. ArXiv, abs/2409.07132](https://arxiv.org/abs/2409.07132). The idea is to use an LLM to generate meaningful and interpretable features from text, and then use Logistic Regression for classification.\n",
    "\n",
    "For example, in the movie plots dataset, we could have features like:\n",
    "- \"Is the protagonist an animal?\" (0 or 1)\n",
    "- \"Does the plot indicate psychological suffering?\" (0 or 1)\n",
    "\n",
    "With a reasonable number of these features, our model could make predictions based on meaningful features instead of raw words.\n",
    "\n",
    "## Objectives\n",
    "* Perform feature extraction for a particular dataset\n",
    "* Compare performance and explainability of classifiers with different approaches. \n",
    "\n",
    "## Rules\n",
    "\n",
    "I highlight a few elements of our usual rules:\n",
    "\n",
    "* You are **NOT ALLOWED** to use AI to generate any code you are asked to make yourself. This includes ChatGPT, CoPilot and all similar generators.\n",
    "* You are **NOT ALLOWED** to use Google or any other search engine.\n",
    "* You are **ALLOWED** to use the offical documentations for libraries: \n",
    "    * [sklearn](https://scikit-learn.org/)\n",
    "    * [numpy](https://numpy.org/)\n",
    "    * [matplotlib](https://matplotlib.org/)\n",
    "    * [google AI studio](https://aistudio.google.com/)\n",
    "* You are **ALLOWED** to use previous code from this course as basis.\n",
    "* You **MUST** use the university's proctoring software to show you are complying with these rules\n",
    "* This task is **INDIVIDUAL**. DO NOT share your code or results with anyone else.\n",
    "\n",
    "## Tasks and Deliverables\n",
    "\n",
    "* At any point, refer to [Balek et al.](https://arxiv.org/abs/2409.07132). \n",
    "* Make a well-commented code to solve each one of the tasks below.\n",
    "* Each task will be evaluated as:\n",
    "    * Insufficient: task is not done, off-topic, or low-effort\n",
    "    * In process: task is incomplete, done with a clear conceptual error, or comments \n",
    "    * Proficient: everything works and comments are enough to understand what is being done\n",
    "    * Advanced: everything works, comments are enough to understand what is being done, and code is well organized and formated using functions, dataclasses, and other adequate structures.\n",
    "* This task should be finished by the end of the class.\n",
    "* After you are finished, submit the executed notebook in our LMS system.\n",
    "\n",
    "### 1. Dataset Preparation:\n",
    "Adapting Balek et al.'s strategy to our movie plot classification case, create a dataset with at least 100 labeled items and at least 5 meaningful features. None of the features can be the class itself (\"is this a drama plot?\"). Use a clear strategy to avoid exceeding free tier quotas. Store data locally in a format of your choice.\n",
    "\n",
    "### 2. Classification:\n",
    "Use the generated features to train a Logistic Regression model. Use cross-validation to select the best hyperparameters. Report accuracy and f1-score for your classifier.\n",
    "\n",
    "### 3. Performance Comparison\n",
    "Compare the performance of the following approaches:\n",
    "1. Traditional Bag-of-Words\n",
    "2. LLM-generated features with Logistic Regression\n",
    "3. Direct classification using LLM\n",
    "\n",
    "Use a bar plot to show the performance differences (choose either accuracy or F1-score).\n",
    "\n",
    "### 4. Improvement Strategies\n",
    "Determine whether labeling more items would improve system performance. Use data to justify your answer.\n"
   ]
  },
  {
   "cell_type": "code",
   "execution_count": 166,
   "metadata": {},
   "outputs": [
    {
     "data": {
      "text/html": [
       "<div>\n",
       "<style scoped>\n",
       "    .dataframe tbody tr th:only-of-type {\n",
       "        vertical-align: middle;\n",
       "    }\n",
       "\n",
       "    .dataframe tbody tr th {\n",
       "        vertical-align: top;\n",
       "    }\n",
       "\n",
       "    .dataframe thead th {\n",
       "        text-align: right;\n",
       "    }\n",
       "</style>\n",
       "<table border=\"1\" class=\"dataframe\">\n",
       "  <thead>\n",
       "    <tr style=\"text-align: right;\">\n",
       "      <th></th>\n",
       "      <th>Plot</th>\n",
       "      <th>Genre</th>\n",
       "    </tr>\n",
       "  </thead>\n",
       "  <tbody>\n",
       "    <tr>\n",
       "      <th>0</th>\n",
       "      <td>The film is about a family who move to the sub...</td>\n",
       "      <td>comedy</td>\n",
       "    </tr>\n",
       "    <tr>\n",
       "      <th>1</th>\n",
       "      <td>Before heading out to a baseball game at a nea...</td>\n",
       "      <td>comedy</td>\n",
       "    </tr>\n",
       "    <tr>\n",
       "      <th>2</th>\n",
       "      <td>The plot is that of a black woman going to the...</td>\n",
       "      <td>comedy</td>\n",
       "    </tr>\n",
       "    <tr>\n",
       "      <th>3</th>\n",
       "      <td>On a beautiful summer day a father and mother ...</td>\n",
       "      <td>drama</td>\n",
       "    </tr>\n",
       "    <tr>\n",
       "      <th>4</th>\n",
       "      <td>A thug accosts a girl as she leaves her workpl...</td>\n",
       "      <td>drama</td>\n",
       "    </tr>\n",
       "  </tbody>\n",
       "</table>\n",
       "</div>"
      ],
      "text/plain": [
       "                                                Plot   Genre\n",
       "0  The film is about a family who move to the sub...  comedy\n",
       "1  Before heading out to a baseball game at a nea...  comedy\n",
       "2  The plot is that of a black woman going to the...  comedy\n",
       "3  On a beautiful summer day a father and mother ...   drama\n",
       "4  A thug accosts a girl as she leaves her workpl...   drama"
      ]
     },
     "execution_count": 166,
     "metadata": {},
     "output_type": "execute_result"
    }
   ],
   "source": [
    "import pandas as pd\n",
    "df = pd.read_csv('https://raw.githubusercontent.com/tiagoft/NLP/main/wiki_movie_plots_drama_comedy.csv')\n",
    "df.head()"
   ]
  },
  {
   "cell_type": "markdown",
   "metadata": {},
   "source": [
    "### Bag of Words"
   ]
  },
  {
   "cell_type": "code",
   "execution_count": 167,
   "metadata": {},
   "outputs": [
    {
     "name": "stdout",
     "output_type": "stream",
     "text": [
      "O conjunto de treino possui 8274 textos e 62379 colunas (palavras únicas)\n",
      "O conjunto de teste possui 2069 textos e 62379 colunas (palavras únicas)\n"
     ]
    }
   ],
   "source": [
    "from sklearn.model_selection import train_test_split\n",
    "from sklearn.feature_extraction.text import CountVectorizer\n",
    "\n",
    "\n",
    "x_train, x_test, y_train, y_test = train_test_split(df['Plot'], df['Genre'], test_size=0.2)\n",
    "\n",
    "vect = CountVectorizer(binary=True, stop_words='english')\n",
    "X_train_matrix = vect.fit_transform(x_train)\n",
    "X_test_matrix = vect.transform(x_test)\n",
    "\n",
    "print(f\"O conjunto de treino possui {X_train_matrix.shape[0]} textos e {X_train_matrix.shape[1]} colunas (palavras únicas)\")\n",
    "print(f\"O conjunto de teste possui {X_test_matrix.shape[0]} textos e {X_test_matrix.shape[1]} colunas (palavras únicas)\")"
   ]
  },
  {
   "cell_type": "code",
   "execution_count": 168,
   "metadata": {},
   "outputs": [
    {
     "name": "stdout",
     "output_type": "stream",
     "text": [
      "Accuracy:  0.7327211213146447\n"
     ]
    }
   ],
   "source": [
    "from sklearn.naive_bayes import BernoulliNB\n",
    "from sklearn.metrics import accuracy_score\n",
    "\n",
    "model = BernoulliNB()\n",
    "model.fit(X_train_matrix, y_train)\n",
    "y_pred = model.predict(X_test_matrix)\n",
    "acc = accuracy_score(y_test, y_pred)\n",
    "print(\"Accuracy: \", acc)"
   ]
  },
  {
   "cell_type": "code",
   "execution_count": 169,
   "metadata": {},
   "outputs": [
    {
     "name": "stdout",
     "output_type": "stream",
     "text": [
      "Recall: 0.71\n",
      "Precision: 0.74\n",
      "F1: 0.71\n",
      "Balanced accuracy: 0.71\n"
     ]
    }
   ],
   "source": [
    "from sklearn.metrics import f1_score, recall_score, precision_score, balanced_accuracy_score\n",
    "\n",
    "recall_bag = recall_score(y_test, y_pred, average='macro')\n",
    "precision_bag = precision_score(y_test, y_pred, average='macro')\n",
    "f1_score_bag = f1_score(y_test, y_pred, average='macro')\n",
    "balanced_accuracy_score_bag = balanced_accuracy_score(y_test, y_pred)\n",
    "\n",
    "print(f'Recall: {recall_bag:.2f}')\n",
    "print(f'Precision: {precision_bag:.2f}')\n",
    "print(f'F1: {f1_score_bag:.2f}')\n",
    "print(f'Balanced accuracy: {balanced_accuracy_score_bag:.2f}')"
   ]
  },
  {
   "cell_type": "code",
   "execution_count": 170,
   "metadata": {},
   "outputs": [
    {
     "name": "stdout",
     "output_type": "stream",
     "text": [
      "[[0.54362416 0.45637584]\n",
      " [0.12340426 0.87659574]]\n"
     ]
    },
    {
     "data": {
      "image/png": "[encoded data removed]",
      "text/plain": [
       "<Figure size 640x480 with 2 Axes>"
      ]
     },
     "metadata": {},
     "output_type": "display_data"
    }
   ],
   "source": [
    "from sklearn.metrics import confusion_matrix,  ConfusionMatrixDisplay\n",
    "\n",
    "c = confusion_matrix(y_test, y_pred, normalize='true')\n",
    "print(c)\n",
    "_ = ConfusionMatrixDisplay(c, display_labels=['comedy', 'drama']).plot()\n"
   ]
  },
  {
   "cell_type": "markdown",
   "metadata": {},
   "source": [
    "### LLM-generated features with Logistic Regression"
   ]
  },
  {
   "cell_type": "code",
   "execution_count": 171,
   "metadata": {},
   "outputs": [
    {
     "name": "stdout",
     "output_type": "stream",
     "text": [
      "1\n",
      "2\n",
      "3\n",
      "4\n",
      "5\n",
      "6\n",
      "7\n",
      "8\n",
      "9\n",
      "10\n",
      "11\n",
      "12\n",
      "13\n",
      "14\n",
      "15\n",
      "Wait...\n",
      "16\n",
      "17\n",
      "Wait...\n",
      "Wait...\n",
      "18\n",
      "19\n",
      "Wait...\n",
      "20\n",
      "Wait...\n",
      "21\n",
      "22\n",
      "23\n",
      "24\n",
      "25\n",
      "26\n",
      "27\n",
      "28\n",
      "29\n",
      "30\n",
      "31\n",
      "32\n",
      "33\n",
      "34\n",
      "35\n",
      "36\n",
      "37\n",
      "38\n",
      "Wait...\n",
      "39\n",
      "40\n",
      "41\n",
      "42\n",
      "Wait...\n",
      "Wait...\n",
      "Wait...\n",
      "43\n",
      "44\n",
      "45\n",
      "46\n",
      "47\n",
      "48\n",
      "49\n",
      "50\n",
      "51\n",
      "52\n",
      "53\n",
      "54\n",
      "55\n",
      "56\n",
      "57\n",
      "58\n",
      "59\n",
      "60\n",
      "61\n",
      "Wait...\n",
      "Wait...\n",
      "62\n",
      "Wait...\n",
      "63\n",
      "Wait...\n",
      "Wait...\n",
      "64\n",
      "65\n",
      "66\n",
      "67\n",
      "68\n",
      "69\n",
      "70\n",
      "71\n",
      "72\n",
      "73\n",
      "74\n",
      "75\n",
      "76\n",
      "77\n",
      "Wait...\n",
      "Wait...\n",
      "78\n",
      "79\n",
      "80\n",
      "81\n",
      "82\n",
      "Wait...\n",
      "83\n",
      "Wait...\n",
      "84\n",
      "85\n",
      "86\n",
      "87\n",
      "88\n",
      "89\n",
      "90\n",
      "91\n",
      "92\n",
      "93\n",
      "94\n",
      "95\n",
      "96\n",
      "97\n",
      "98\n",
      "99\n",
      "Wait...\n",
      "100\n"
     ]
    }
   ],
   "source": [
    "import os\n",
    "import dotenv\n",
    "import google.generativeai as genai\n",
    "import json\n",
    "import time\n",
    "\n",
    "GEMINI_API_KEY = os.getenv('GEMINI_API_KEY')\n",
    "\n",
    "# Start the use of the API\n",
    "genai.configure(api_key=GEMINI_API_KEY)\n",
    "\n",
    "df_ = df.sample(100)\n",
    "\n",
    "i = 0\n",
    "current_responses = []\n",
    "while i < len(df_):\n",
    "    plot = df_.iloc[i]['Plot']\n",
    "\n",
    "    prompt = f\"\"\"You will help me by analysing a movie plot. I will ask you some questions and you will answer either 1 (for yes) or 0 (for no). \n",
    "    In case you are in doubt, make your best guess.\n",
    "    Also, identify if the plot genre is COMEDY or DRAMA.\n",
    "    Answer the questions as a JSON file, in the format:\n",
    "\n",
    "    {{\n",
    "    \"Q1\" : \"Answer to Q1\",\n",
    "    \"Q2\" : \"Answer to Q2\",\n",
    "    \"Q3\" : \"Answer to Q3\",\n",
    "    \"Q4\" : \"Answer to Q4\",\n",
    "    \"Q5\" : \"Answer to Q5\",\n",
    "    \"LLM_Genre\" : \"DRAMA\" or \"COMEDY\"\n",
    "    }}\n",
    "\n",
    "    The questions are:\n",
    "\n",
    "    Q1: Is the protagonist an animal?\n",
    "    Q2: Can that movie make me rethink my life choices?\n",
    "    Q3: Am I going to cry when I watch the movie?\n",
    "    Q4: Is the plot absurd or exaggerated?\n",
    "    Q5: Could the situations in the movie realistic happen to an average person?\n",
    "    \n",
    "    The movie plot is: {plot}\n",
    "    \"\"\"\n",
    "\n",
    "    generation_config = genai.GenerationConfig(\n",
    "    max_output_tokens=100,\n",
    "    temperature=0.0,\n",
    "    response_mime_type='application/json'\n",
    "    )\n",
    "\n",
    "    model = genai.GenerativeModel(model_name=\"gemini-2.0-flash\")\n",
    "\n",
    "    try:\n",
    "        response = model.generate_content(prompt,\n",
    "                                        generation_config=generation_config)\n",
    "        \n",
    "        i += 1\n",
    "        print(i)\n",
    "    except:\n",
    "        print(\"Wait...\")\n",
    "        time.sleep(10)\n",
    "\n",
    "    response_dict = json.loads(response.text)\n",
    "    current_responses.append(response_dict)"
   ]
  },
  {
   "cell_type": "code",
   "execution_count": 172,
   "metadata": {},
   "outputs": [
    {
     "data": {
      "text/html": [
       "<div>\n",
       "<style scoped>\n",
       "    .dataframe tbody tr th:only-of-type {\n",
       "        vertical-align: middle;\n",
       "    }\n",
       "\n",
       "    .dataframe tbody tr th {\n",
       "        vertical-align: top;\n",
       "    }\n",
       "\n",
       "    .dataframe thead th {\n",
       "        text-align: right;\n",
       "    }\n",
       "</style>\n",
       "<table border=\"1\" class=\"dataframe\">\n",
       "  <thead>\n",
       "    <tr style=\"text-align: right;\">\n",
       "      <th></th>\n",
       "      <th>Q1</th>\n",
       "      <th>Q2</th>\n",
       "      <th>Q3</th>\n",
       "      <th>Q4</th>\n",
       "      <th>Q5</th>\n",
       "      <th>LLM_Genre</th>\n",
       "    </tr>\n",
       "  </thead>\n",
       "  <tbody>\n",
       "    <tr>\n",
       "      <th>0</th>\n",
       "      <td>0</td>\n",
       "      <td>0</td>\n",
       "      <td>0</td>\n",
       "      <td>1</td>\n",
       "      <td>1</td>\n",
       "      <td>COMEDY</td>\n",
       "    </tr>\n",
       "    <tr>\n",
       "      <th>1</th>\n",
       "      <td>0</td>\n",
       "      <td>1</td>\n",
       "      <td>1</td>\n",
       "      <td>0</td>\n",
       "      <td>1</td>\n",
       "      <td>DRAMA</td>\n",
       "    </tr>\n",
       "    <tr>\n",
       "      <th>2</th>\n",
       "      <td>0</td>\n",
       "      <td>0</td>\n",
       "      <td>0</td>\n",
       "      <td>1</td>\n",
       "      <td>0</td>\n",
       "      <td>COMEDY</td>\n",
       "    </tr>\n",
       "    <tr>\n",
       "      <th>3</th>\n",
       "      <td>0</td>\n",
       "      <td>1</td>\n",
       "      <td>1</td>\n",
       "      <td>0</td>\n",
       "      <td>1</td>\n",
       "      <td>DRAMA</td>\n",
       "    </tr>\n",
       "    <tr>\n",
       "      <th>4</th>\n",
       "      <td>0</td>\n",
       "      <td>0</td>\n",
       "      <td>0</td>\n",
       "      <td>1</td>\n",
       "      <td>1</td>\n",
       "      <td>COMEDY</td>\n",
       "    </tr>\n",
       "    <tr>\n",
       "      <th>...</th>\n",
       "      <td>...</td>\n",
       "      <td>...</td>\n",
       "      <td>...</td>\n",
       "      <td>...</td>\n",
       "      <td>...</td>\n",
       "      <td>...</td>\n",
       "    </tr>\n",
       "    <tr>\n",
       "      <th>114</th>\n",
       "      <td>0</td>\n",
       "      <td>0</td>\n",
       "      <td>0</td>\n",
       "      <td>1</td>\n",
       "      <td>0</td>\n",
       "      <td>COMEDY</td>\n",
       "    </tr>\n",
       "    <tr>\n",
       "      <th>115</th>\n",
       "      <td>0</td>\n",
       "      <td>1</td>\n",
       "      <td>1</td>\n",
       "      <td>0</td>\n",
       "      <td>1</td>\n",
       "      <td>DRAMA</td>\n",
       "    </tr>\n",
       "    <tr>\n",
       "      <th>116</th>\n",
       "      <td>0</td>\n",
       "      <td>0</td>\n",
       "      <td>0</td>\n",
       "      <td>0</td>\n",
       "      <td>1</td>\n",
       "      <td>COMEDY</td>\n",
       "    </tr>\n",
       "    <tr>\n",
       "      <th>117</th>\n",
       "      <td>0</td>\n",
       "      <td>0</td>\n",
       "      <td>0</td>\n",
       "      <td>0</td>\n",
       "      <td>1</td>\n",
       "      <td>COMEDY</td>\n",
       "    </tr>\n",
       "    <tr>\n",
       "      <th>118</th>\n",
       "      <td>0</td>\n",
       "      <td>0</td>\n",
       "      <td>0</td>\n",
       "      <td>1</td>\n",
       "      <td>0</td>\n",
       "      <td>COMEDY</td>\n",
       "    </tr>\n",
       "  </tbody>\n",
       "</table>\n",
       "<p>119 rows × 6 columns</p>\n",
       "</div>"
      ],
      "text/plain": [
       "    Q1 Q2 Q3 Q4 Q5 LLM_Genre\n",
       "0    0  0  0  1  1    COMEDY\n",
       "1    0  1  1  0  1     DRAMA\n",
       "2    0  0  0  1  0    COMEDY\n",
       "3    0  1  1  0  1     DRAMA\n",
       "4    0  0  0  1  1    COMEDY\n",
       "..  .. .. .. .. ..       ...\n",
       "114  0  0  0  1  0    COMEDY\n",
       "115  0  1  1  0  1     DRAMA\n",
       "116  0  0  0  0  1    COMEDY\n",
       "117  0  0  0  0  1    COMEDY\n",
       "118  0  0  0  1  0    COMEDY\n",
       "\n",
       "[119 rows x 6 columns]"
      ]
     },
     "execution_count": 172,
     "metadata": {},
     "output_type": "execute_result"
    }
   ],
   "source": [
    "current_responses_df = pd.DataFrame(current_responses)\n",
    "current_responses_df"
   ]
  },
  {
   "cell_type": "code",
   "execution_count": 173,
   "metadata": {},
   "outputs": [
    {
     "data": {
      "text/html": [
       "<div>\n",
       "<style scoped>\n",
       "    .dataframe tbody tr th:only-of-type {\n",
       "        vertical-align: middle;\n",
       "    }\n",
       "\n",
       "    .dataframe tbody tr th {\n",
       "        vertical-align: top;\n",
       "    }\n",
       "\n",
       "    .dataframe thead th {\n",
       "        text-align: right;\n",
       "    }\n",
       "</style>\n",
       "<table border=\"1\" class=\"dataframe\">\n",
       "  <thead>\n",
       "    <tr style=\"text-align: right;\">\n",
       "      <th></th>\n",
       "      <th>Plot</th>\n",
       "      <th>Genre</th>\n",
       "      <th>Q1</th>\n",
       "      <th>Q2</th>\n",
       "      <th>Q3</th>\n",
       "      <th>Q4</th>\n",
       "      <th>Q5</th>\n",
       "      <th>LLM_Genre</th>\n",
       "    </tr>\n",
       "  </thead>\n",
       "  <tbody>\n",
       "    <tr>\n",
       "      <th>8679</th>\n",
       "      <td>Tim (Michael Hui) and Lee (Samuel Hui) are emp...</td>\n",
       "      <td>comedy</td>\n",
       "      <td>0</td>\n",
       "      <td>0</td>\n",
       "      <td>0</td>\n",
       "      <td>1</td>\n",
       "      <td>1</td>\n",
       "      <td>COMEDY</td>\n",
       "    </tr>\n",
       "    <tr>\n",
       "      <th>4591</th>\n",
       "      <td>Scorchers takes place in cajun Louisiana on th...</td>\n",
       "      <td>drama</td>\n",
       "      <td>0</td>\n",
       "      <td>1</td>\n",
       "      <td>1</td>\n",
       "      <td>0</td>\n",
       "      <td>1</td>\n",
       "      <td>DRAMA</td>\n",
       "    </tr>\n",
       "    <tr>\n",
       "      <th>4936</th>\n",
       "      <td>A crafty nightclub owner (Jack) brings togethe...</td>\n",
       "      <td>drama</td>\n",
       "      <td>0</td>\n",
       "      <td>0</td>\n",
       "      <td>0</td>\n",
       "      <td>1</td>\n",
       "      <td>0</td>\n",
       "      <td>COMEDY</td>\n",
       "    </tr>\n",
       "    <tr>\n",
       "      <th>10158</th>\n",
       "      <td>Film is set in a small village of Ina district...</td>\n",
       "      <td>drama</td>\n",
       "      <td>0</td>\n",
       "      <td>1</td>\n",
       "      <td>1</td>\n",
       "      <td>0</td>\n",
       "      <td>1</td>\n",
       "      <td>DRAMA</td>\n",
       "    </tr>\n",
       "    <tr>\n",
       "      <th>1381</th>\n",
       "      <td>Amalgamated Pictures is seeking new stars for ...</td>\n",
       "      <td>drama</td>\n",
       "      <td>0</td>\n",
       "      <td>0</td>\n",
       "      <td>0</td>\n",
       "      <td>1</td>\n",
       "      <td>1</td>\n",
       "      <td>COMEDY</td>\n",
       "    </tr>\n",
       "  </tbody>\n",
       "</table>\n",
       "</div>"
      ],
      "text/plain": [
       "                                                    Plot   Genre  Q1  Q2  Q3  \\\n",
       "8679   Tim (Michael Hui) and Lee (Samuel Hui) are emp...  comedy   0   0   0   \n",
       "4591   Scorchers takes place in cajun Louisiana on th...   drama   0   1   1   \n",
       "4936   A crafty nightclub owner (Jack) brings togethe...   drama   0   0   0   \n",
       "10158  Film is set in a small village of Ina district...   drama   0   1   1   \n",
       "1381   Amalgamated Pictures is seeking new stars for ...   drama   0   0   0   \n",
       "\n",
       "       Q4  Q5 LLM_Genre  \n",
       "8679    1   1    COMEDY  \n",
       "4591    0   1     DRAMA  \n",
       "4936    1   0    COMEDY  \n",
       "10158   0   1     DRAMA  \n",
       "1381    1   1    COMEDY  "
      ]
     },
     "execution_count": 173,
     "metadata": {},
     "output_type": "execute_result"
    }
   ],
   "source": [
    "df_ = df_.iloc[0:100]\n",
    "current_responses_df = current_responses_df.iloc[0:100]\n",
    "\n",
    "df_['Q1'] = list(current_responses_df['Q1'].astype(int))\n",
    "df_['Q2'] = list(current_responses_df['Q2'].astype(int))\n",
    "df_['Q3'] = list(current_responses_df['Q3'].astype(int))\n",
    "df_['Q4'] = list(current_responses_df['Q4'].astype(int))\n",
    "df_['Q5'] = list(current_responses_df['Q5'].astype(int))\n",
    "df_['LLM_Genre'] = list(current_responses_df['LLM_Genre'])\n",
    "\n",
    "df_.head()\n",
    "\n"
   ]
  },
  {
   "cell_type": "code",
   "execution_count": 174,
   "metadata": {},
   "outputs": [
    {
     "name": "stdout",
     "output_type": "stream",
     "text": [
      "Best parameters: {'class_weight': None, 'fit_intercept': False, 'penalty': 'l2'}\n",
      "Best cross-validation accuracy: 0.49\n"
     ]
    }
   ],
   "source": [
    "from sklearn.model_selection import GridSearchCV\n",
    "from sklearn.linear_model import LogisticRegression\n",
    "\n",
    "param_grid = {\n",
    "    \"penalty\":[None, \"l2\"],\n",
    "    \"fit_intercept\":[True, False],\n",
    "    \"class_weight\":[None, 'balanced']\n",
    "}\n",
    "\n",
    "x_train, x_test, y_train, y_test = train_test_split(df_[['Q1','Q2','Q3','Q4','Q5']], df_['Genre'], test_size=0.2)\n",
    "\n",
    "\n",
    "grid = GridSearchCV(\n",
    "    LogisticRegression(),\n",
    "    param_grid,\n",
    "    cv=5,\n",
    "    scoring='accuracy',\n",
    "    n_jobs=-1,\n",
    ")\n",
    "\n",
    "grid.fit(x_train, y_train)\n",
    "print(f'Best parameters: {grid.best_params_}')\n",
    "print(f'Best cross-validation accuracy: {grid.best_score_:.2f}')"
   ]
  },
  {
   "cell_type": "code",
   "execution_count": 175,
   "metadata": {},
   "outputs": [
    {
     "name": "stdout",
     "output_type": "stream",
     "text": [
      "0.493\n"
     ]
    }
   ],
   "source": [
    "import numpy as np\n",
    "\n",
    "accuracies = []\n",
    "for _ in range(50):\n",
    "    x_train, x_test, y_train, y_test = train_test_split(df_[['Q1','Q2','Q3','Q4','Q5']], df_['Genre'], test_size=0.2)\n",
    "    model = LogisticRegression(random_state=42, fit_intercept=True, penalty=None, class_weight='balanced')\n",
    "    model.fit(x_train, y_train)\n",
    "    y_pred = model.predict(x_test)\n",
    "    accuracy = accuracy_score(y_test, y_pred)\n",
    "    accuracies.append(accuracy)\n",
    "\n",
    "print(np.mean(accuracies))"
   ]
  },
  {
   "cell_type": "code",
   "execution_count": 176,
   "metadata": {},
   "outputs": [
    {
     "name": "stdout",
     "output_type": "stream",
     "text": [
      "Recall: 0.65\n",
      "Precision: 0.72\n",
      "F1: 0.64\n",
      "Balanced accuracy: 0.65\n"
     ]
    }
   ],
   "source": [
    "recall_log = recall_score(y_test, y_pred, average='macro')\n",
    "precision_log = precision_score(y_test, y_pred, average='macro')\n",
    "f1_score_log = f1_score(y_test, y_pred, average='macro')\n",
    "balanced_accuracy_score_log = balanced_accuracy_score(y_test, y_pred)\n",
    "\n",
    "print(f'Recall: {recall_log:.2f}')\n",
    "print(f'Precision: {precision_log:.2f}')\n",
    "print(f'F1: {f1_score_log:.2f}')\n",
    "print(f'Balanced accuracy: {balanced_accuracy_score_log:.2f}')"
   ]
  },
  {
   "cell_type": "code",
   "execution_count": 177,
   "metadata": {},
   "outputs": [
    {
     "name": "stdout",
     "output_type": "stream",
     "text": [
      "[[0.91666667 0.08333333]\n",
      " [0.625      0.375     ]]\n"
     ]
    },
    {
     "data": {
      "image/png": "[encoded data removed]",
      "text/plain": [
       "<Figure size 640x480 with 2 Axes>"
      ]
     },
     "metadata": {},
     "output_type": "display_data"
    }
   ],
   "source": [
    "from sklearn.metrics import confusion_matrix,  ConfusionMatrixDisplay\n",
    "\n",
    "c = confusion_matrix(y_test, y_pred, normalize='true')\n",
    "print(c)\n",
    "_ = ConfusionMatrixDisplay(c, display_labels=['comedy', 'drama']).plot()"
   ]
  },
  {
   "cell_type": "markdown",
   "metadata": {},
   "source": [
    "### Direct classification"
   ]
  },
  {
   "cell_type": "code",
   "execution_count": 178,
   "metadata": {},
   "outputs": [
    {
     "name": "stdout",
     "output_type": "stream",
     "text": [
      "0.49\n"
     ]
    }
   ],
   "source": [
    "print(accuracy_score(df_['Genre'].str.upper(), df_['LLM_Genre'].str.upper()))"
   ]
  },
  {
   "cell_type": "markdown",
   "metadata": {},
   "source": [
    "### Plot"
   ]
  },
  {
   "cell_type": "code",
   "execution_count": 179,
   "metadata": {},
   "outputs": [
    {
     "data": {
      "text/plain": [
       "Text(0.5, 1.0, 'Balanced Score Scores Comparison')"
      ]
     },
     "execution_count": 179,
     "metadata": {},
     "output_type": "execute_result"
    },
    {
     "data": {
      "image/png": "[encoded data removed]",
      "text/plain": [
       "<Figure size 1200x1000 with 4 Axes>"
      ]
     },
     "metadata": {},
     "output_type": "display_data"
    }
   ],
   "source": [
    "import matplotlib.pyplot as plt\n",
    "\n",
    "fig, axes = plt.subplots(2, 2, figsize=(12, 10))\n",
    "axes[0,0].bar(['Bag Of Words', 'Logistic Regression'], [precision_bag, precision_log], color=['blue','red'])\n",
    "axes[0,0].set_title('Precision Scores Comparison')\n",
    "\n",
    "axes[0,1].bar(['Bag Of Words', 'Logistic Regression'], [recall_bag, recall_log], color=['blue','red'])\n",
    "axes[0,1].set_title('Recall Scores Comparison')\n",
    "\n",
    "axes[1,0].bar(['Bag Of Words', 'Logistic Regression'], [f1_score_bag, f1_score_log], color=['blue','red'])\n",
    "axes[1,0].set_title('F1-Score Scores Comparison')\n",
    "\n",
    "axes[1,1].bar(['Bag Of Words', 'Logistic Regression'], [balanced_accuracy_score_bag, balanced_accuracy_score_log], color=['blue','red'])\n",
    "axes[1,1].set_title('Balanced Score Scores Comparison')"
   ]
  },
  {
   "cell_type": "code",
   "execution_count": 180,
   "metadata": {},
   "outputs": [
    {
     "data": {
      "text/plain": [
       "Genre\n",
       "drama     56\n",
       "comedy    44\n",
       "Name: count, dtype: int64"
      ]
     },
     "execution_count": 180,
     "metadata": {},
     "output_type": "execute_result"
    }
   ],
   "source": [
    "df_['Genre'].value_counts()"
   ]
  },
  {
   "cell_type": "markdown",
   "metadata": {},
   "source": [
    "### Testando outras abordagens"
   ]
  },
  {
   "cell_type": "code",
   "execution_count": 209,
   "metadata": {},
   "outputs": [
    {
     "name": "stdout",
     "output_type": "stream",
     "text": [
      "Best parameters: {'class_weight': None, 'max_depth': None, 'n_estimators': 1}\n",
      "Best cross-validation accuracy: 0.61\n"
     ]
    }
   ],
   "source": [
    "from sklearn.model_selection import GridSearchCV\n",
    "from sklearn.ensemble import RandomForestClassifier\n",
    "\n",
    "\n",
    "x_train, x_test, y_train, y_test = train_test_split(df_[['Q1','Q2','Q3','Q4','Q5']], df_['Genre'], random_state=42)\n",
    "\n",
    "\n",
    "param_grid = {\n",
    "    'n_estimators': [1, 10, 50, 100, 200],\n",
    "    'max_depth':[None, 1, 3, 5, 10],\n",
    "    'class_weight':[None, 'balanced']\n",
    "}\n",
    "\n",
    "grid = GridSearchCV(\n",
    "    RandomForestClassifier(random_state=42),\n",
    "    param_grid,\n",
    "    cv=5,\n",
    "    scoring='accuracy',\n",
    "    n_jobs=-1,\n",
    ")\n",
    "\n",
    "\n",
    "grid.fit(x_train, y_train)\n",
    "print(f'Best parameters: {grid.best_params_}')\n",
    "print(f'Best cross-validation accuracy: {grid.best_score_:.2f}')"
   ]
  },
  {
   "cell_type": "code",
   "execution_count": 222,
   "metadata": {},
   "outputs": [
    {
     "name": "stdout",
     "output_type": "stream",
     "text": [
      "0.5064\n"
     ]
    }
   ],
   "source": [
    "from sklearn.pipeline import Pipeline\n",
    "\n",
    "accuracies = []\n",
    "for _ in range(50):\n",
    "    x_train, x_test, y_train, y_test = train_test_split(df_[['Q1','Q2','Q3','Q4','Q5']], df_['Genre'])\n",
    "\n",
    "    model = RandomForestClassifier(random_state=42, max_depth=None, n_estimators=1, class_weight=None)\n",
    "\n",
    "    model.fit(x_train, y_train)\n",
    "    y_pred = model.predict(x_test)\n",
    "    acc = accuracy_score(y_test, y_pred)\n",
    "    accuracies.append(acc)\n",
    "\n",
    "print(np.mean(accuracies))"
   ]
  },
  {
   "cell_type": "code",
   "execution_count": 223,
   "metadata": {},
   "outputs": [
    {
     "name": "stdout",
     "output_type": "stream",
     "text": [
      "Genre\n",
      "drama     40\n",
      "comedy    35\n",
      "Name: count, dtype: int64\n"
     ]
    }
   ],
   "source": [
    "print(y_train.value_counts())"
   ]
  },
  {
   "cell_type": "code",
   "execution_count": 224,
   "metadata": {},
   "outputs": [
    {
     "name": "stdout",
     "output_type": "stream",
     "text": [
      "[[0.22222222 0.77777778]\n",
      " [0.4375     0.5625    ]]\n"
     ]
    },
    {
     "data": {
      "image/png": "[encoded data removed]",
      "text/plain": [
       "<Figure size 640x480 with 2 Axes>"
      ]
     },
     "metadata": {},
     "output_type": "display_data"
    }
   ],
   "source": [
    "from sklearn.metrics import confusion_matrix,  ConfusionMatrixDisplay\n",
    "\n",
    "c = confusion_matrix(y_test, y_pred, normalize='true')\n",
    "print(c)\n",
    "_ = ConfusionMatrixDisplay(c, display_labels=['comedy', 'drama']).plot()"
   ]
  },
  {
   "cell_type": "code",
   "execution_count": null,
   "metadata": {},
   "outputs": [],
   "source": []
  }
 ],
 "metadata": {
  "kernelspec": {
   "display_name": "env",
   "language": "python",
   "name": "python3"
  },
  "language_info": {
   "codemirror_mode": {
    "name": "ipython",
    "version": 3
   },
   "file_extension": ".py",
   "mimetype": "text/x-python",
   "name": "python",
   "nbconvert_exporter": "python",
   "pygments_lexer": "ipython3",
   "version": "3.12.3"
  }
 },
 "nbformat": 4,
 "nbformat_minor": 2
}
