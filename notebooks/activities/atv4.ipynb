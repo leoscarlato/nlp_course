{
 "cells": [
  {
   "cell_type": "code",
   "execution_count": 31,
   "id": "3cd8bba5",
   "metadata": {},
   "outputs": [],
   "source": [
    "import pandas as pd\n",
    "import sklearn\n",
    "from sklearn.model_selection import train_test_split\n",
    "from sklearn.linear_model import LogisticRegression\n",
    "from sklearn.metrics import accuracy_score, classification_report, confusion_matrix\n",
    "from sklearn.feature_extraction.text import TfidfVectorizer, CountVectorizer\n",
    "from sklearn.pipeline import Pipeline\n",
    "import numpy as np\n",
    "from transformers import BertTokenizer, BertModel\n",
    "import tqdm\n"
   ]
  },
  {
   "cell_type": "code",
   "execution_count": 32,
   "id": "8f4e3d4c",
   "metadata": {},
   "outputs": [
    {
     "data": {
      "text/html": [
       "<div>\n",
       "<style scoped>\n",
       "    .dataframe tbody tr th:only-of-type {\n",
       "        vertical-align: middle;\n",
       "    }\n",
       "\n",
       "    .dataframe tbody tr th {\n",
       "        vertical-align: top;\n",
       "    }\n",
       "\n",
       "    .dataframe thead th {\n",
       "        text-align: right;\n",
       "    }\n",
       "</style>\n",
       "<table border=\"1\" class=\"dataframe\">\n",
       "  <thead>\n",
       "    <tr style=\"text-align: right;\">\n",
       "      <th></th>\n",
       "      <th>title</th>\n",
       "      <th>news_url</th>\n",
       "      <th>source_domain</th>\n",
       "      <th>tweet_num</th>\n",
       "      <th>real</th>\n",
       "    </tr>\n",
       "  </thead>\n",
       "  <tbody>\n",
       "    <tr>\n",
       "      <th>0</th>\n",
       "      <td>Kandi Burruss Explodes Over Rape Accusation on...</td>\n",
       "      <td>http://toofab.com/2017/05/08/real-housewives-a...</td>\n",
       "      <td>toofab.com</td>\n",
       "      <td>42</td>\n",
       "      <td>1</td>\n",
       "    </tr>\n",
       "    <tr>\n",
       "      <th>1</th>\n",
       "      <td>People's Choice Awards 2018: The best red carp...</td>\n",
       "      <td>https://www.today.com/style/see-people-s-choic...</td>\n",
       "      <td>www.today.com</td>\n",
       "      <td>0</td>\n",
       "      <td>1</td>\n",
       "    </tr>\n",
       "    <tr>\n",
       "      <th>2</th>\n",
       "      <td>Sophia Bush Sends Sweet Birthday Message to 'O...</td>\n",
       "      <td>https://www.etonline.com/news/220806_sophia_bu...</td>\n",
       "      <td>www.etonline.com</td>\n",
       "      <td>63</td>\n",
       "      <td>1</td>\n",
       "    </tr>\n",
       "    <tr>\n",
       "      <th>3</th>\n",
       "      <td>Colombian singer Maluma sparks rumours of inap...</td>\n",
       "      <td>https://www.dailymail.co.uk/news/article-33655...</td>\n",
       "      <td>www.dailymail.co.uk</td>\n",
       "      <td>20</td>\n",
       "      <td>1</td>\n",
       "    </tr>\n",
       "    <tr>\n",
       "      <th>4</th>\n",
       "      <td>Gossip Girl 10 Years Later: How Upper East Sid...</td>\n",
       "      <td>https://www.zerchoo.com/entertainment/gossip-g...</td>\n",
       "      <td>www.zerchoo.com</td>\n",
       "      <td>38</td>\n",
       "      <td>1</td>\n",
       "    </tr>\n",
       "  </tbody>\n",
       "</table>\n",
       "</div>"
      ],
      "text/plain": [
       "                                               title  \\\n",
       "0  Kandi Burruss Explodes Over Rape Accusation on...   \n",
       "1  People's Choice Awards 2018: The best red carp...   \n",
       "2  Sophia Bush Sends Sweet Birthday Message to 'O...   \n",
       "3  Colombian singer Maluma sparks rumours of inap...   \n",
       "4  Gossip Girl 10 Years Later: How Upper East Sid...   \n",
       "\n",
       "                                            news_url        source_domain  \\\n",
       "0  http://toofab.com/2017/05/08/real-housewives-a...           toofab.com   \n",
       "1  https://www.today.com/style/see-people-s-choic...        www.today.com   \n",
       "2  https://www.etonline.com/news/220806_sophia_bu...     www.etonline.com   \n",
       "3  https://www.dailymail.co.uk/news/article-33655...  www.dailymail.co.uk   \n",
       "4  https://www.zerchoo.com/entertainment/gossip-g...      www.zerchoo.com   \n",
       "\n",
       "   tweet_num  real  \n",
       "0         42     1  \n",
       "1          0     1  \n",
       "2         63     1  \n",
       "3         20     1  \n",
       "4         38     1  "
      ]
     },
     "execution_count": 32,
     "metadata": {},
     "output_type": "execute_result"
    }
   ],
   "source": [
    "df = pd.read_csv('FakeNewsNet.csv')\n",
    "df.head()"
   ]
  },
  {
   "cell_type": "code",
   "execution_count": 33,
   "id": "77b4136d",
   "metadata": {},
   "outputs": [
    {
     "name": "stdout",
     "output_type": "stream",
     "text": [
      "Accuracy: 0.8297413793103449\n"
     ]
    }
   ],
   "source": [
    "X = df['title']\n",
    "y = df['real']\n",
    "\n",
    "pipe1 = Pipeline([\n",
    "    ('tfidf', TfidfVectorizer(stop_words='english')),\n",
    "    ('clf', LogisticRegression())\n",
    "])\n",
    "\n",
    "X_train, X_test, y_train, y_test = train_test_split(X, y, test_size=0.2, random_state=42)\n",
    "pipe1.fit(X_train, y_train)\n",
    "y_pred = pipe1.predict(X_test)\n",
    "print(\"Accuracy:\", accuracy_score(y_test, y_pred))"
   ]
  },
  {
   "cell_type": "code",
   "execution_count": 34,
   "id": "eb8ca8ad",
   "metadata": {},
   "outputs": [
    {
     "data": {
      "text/plain": [
       "array([0, 1])"
      ]
     },
     "execution_count": 34,
     "metadata": {},
     "output_type": "execute_result"
    }
   ],
   "source": [
    "clf = pipe1.named_steps['clf']\n",
    "clf.classes_"
   ]
  },
  {
   "cell_type": "code",
   "execution_count": 35,
   "id": "b178a6c8",
   "metadata": {},
   "outputs": [
    {
     "name": "stdout",
     "output_type": "stream",
     "text": [
      "Top 10 features:\n",
      "season: 3.145466244369363\n",
      "awards: 2.2256154380683912\n",
      "star: 2.123261090317753\n",
      "shares: 2.0552687875917997\n",
      "reveals: 1.9582392397187565\n",
      "bachelor: 1.9366692010540751\n",
      "2018: 1.9115586032952376\n",
      "birthday: 1.8831328757163561\n",
      "celebrates: 1.8311584686455427\n",
      "best: 1.7901102372419138\n"
     ]
    }
   ],
   "source": [
    "vectorizer = pipe1.named_steps['tfidf']\n",
    "clf = pipe1.named_steps['clf']\n",
    "\n",
    "features = vectorizer.get_feature_names_out()\n",
    "coefs = clf.coef_[0]\n",
    "\n",
    "indices = np.argsort(coefs)[::-1][:10]\n",
    "print(\"Top 10 features:\")\n",
    "for i in indices:\n",
    "    print(f\"{features[i]}: {coefs[i]}\")"
   ]
  },
  {
   "cell_type": "markdown",
   "id": "2c496b77",
   "metadata": {},
   "source": [
    "Fazendo download de dois outros datasets de fake news"
   ]
  },
  {
   "cell_type": "code",
   "execution_count": 36,
   "id": "04e22af1",
   "metadata": {},
   "outputs": [
    {
     "data": {
      "text/html": [
       "<div>\n",
       "<style scoped>\n",
       "    .dataframe tbody tr th:only-of-type {\n",
       "        vertical-align: middle;\n",
       "    }\n",
       "\n",
       "    .dataframe tbody tr th {\n",
       "        vertical-align: top;\n",
       "    }\n",
       "\n",
       "    .dataframe thead th {\n",
       "        text-align: right;\n",
       "    }\n",
       "</style>\n",
       "<table border=\"1\" class=\"dataframe\">\n",
       "  <thead>\n",
       "    <tr style=\"text-align: right;\">\n",
       "      <th></th>\n",
       "      <th>Text</th>\n",
       "      <th>label</th>\n",
       "    </tr>\n",
       "  </thead>\n",
       "  <tbody>\n",
       "    <tr>\n",
       "      <th>0</th>\n",
       "      <td>Top Trump Surrogate BRUTALLY Stabs Him In The...</td>\n",
       "      <td>0</td>\n",
       "    </tr>\n",
       "    <tr>\n",
       "      <th>1</th>\n",
       "      <td>U.S. conservative leader optimistic of common ...</td>\n",
       "      <td>1</td>\n",
       "    </tr>\n",
       "    <tr>\n",
       "      <th>2</th>\n",
       "      <td>Trump proposes U.S. tax overhaul, stirs concer...</td>\n",
       "      <td>1</td>\n",
       "    </tr>\n",
       "    <tr>\n",
       "      <th>3</th>\n",
       "      <td>Court Forces Ohio To Allow Millions Of Illega...</td>\n",
       "      <td>0</td>\n",
       "    </tr>\n",
       "    <tr>\n",
       "      <th>4</th>\n",
       "      <td>Democrats say Trump agrees to work on immigrat...</td>\n",
       "      <td>1</td>\n",
       "    </tr>\n",
       "    <tr>\n",
       "      <th>...</th>\n",
       "      <td>...</td>\n",
       "      <td>...</td>\n",
       "    </tr>\n",
       "    <tr>\n",
       "      <th>9895</th>\n",
       "      <td>Wikileaks Admits To Screwing Up IMMENSELY Wit...</td>\n",
       "      <td>0</td>\n",
       "    </tr>\n",
       "    <tr>\n",
       "      <th>9896</th>\n",
       "      <td>Trump consults Republican senators on Fed chie...</td>\n",
       "      <td>1</td>\n",
       "    </tr>\n",
       "    <tr>\n",
       "      <th>9897</th>\n",
       "      <td>Trump lawyers say judge lacks jurisdiction for...</td>\n",
       "      <td>1</td>\n",
       "    </tr>\n",
       "    <tr>\n",
       "      <th>9898</th>\n",
       "      <td>WATCH: Right-Wing Pastor Falsely Credits Trum...</td>\n",
       "      <td>0</td>\n",
       "    </tr>\n",
       "    <tr>\n",
       "      <th>9899</th>\n",
       "      <td>Sean Spicer HILARIOUSLY Branded As Chickensh*...</td>\n",
       "      <td>0</td>\n",
       "    </tr>\n",
       "  </tbody>\n",
       "</table>\n",
       "<p>9900 rows × 2 columns</p>\n",
       "</div>"
      ],
      "text/plain": [
       "                                                   Text  label\n",
       "0      Top Trump Surrogate BRUTALLY Stabs Him In The...      0\n",
       "1     U.S. conservative leader optimistic of common ...      1\n",
       "2     Trump proposes U.S. tax overhaul, stirs concer...      1\n",
       "3      Court Forces Ohio To Allow Millions Of Illega...      0\n",
       "4     Democrats say Trump agrees to work on immigrat...      1\n",
       "...                                                 ...    ...\n",
       "9895   Wikileaks Admits To Screwing Up IMMENSELY Wit...      0\n",
       "9896  Trump consults Republican senators on Fed chie...      1\n",
       "9897  Trump lawyers say judge lacks jurisdiction for...      1\n",
       "9898   WATCH: Right-Wing Pastor Falsely Credits Trum...      0\n",
       "9899   Sean Spicer HILARIOUSLY Branded As Chickensh*...      0\n",
       "\n",
       "[9900 rows x 2 columns]"
      ]
     },
     "execution_count": 36,
     "metadata": {},
     "output_type": "execute_result"
    }
   ],
   "source": [
    "df_ = pd.read_csv('fake_or_real_news.csv')\n",
    "df_2 = pd.read_csv('fake_and_real_news.csv')\n",
    "\n",
    "df_ = df_.drop(columns=['Unnamed: 0'])\n",
    "df_['label'] = df_['label'].apply(lambda x: 1 if x == 'REAL' else 0)\n",
    "df_2['label'] = df_2['label'].apply(lambda x: 1 if x == 'Real' else 0)\n",
    "\n",
    "df_2"
   ]
  },
  {
   "cell_type": "code",
   "execution_count": 37,
   "id": "38e58e09",
   "metadata": {},
   "outputs": [
    {
     "name": "stdout",
     "output_type": "stream",
     "text": [
      "Test Accuracy: 0.2526297637523711\n"
     ]
    }
   ],
   "source": [
    "X_train, y_train = df_['text'], df_['label']\n",
    "X_test, y_test   = df['title'], df['real']\n",
    "\n",
    "pipe2 = Pipeline([\n",
    "    ('tfidf', TfidfVectorizer(stop_words='english')),\n",
    "    ('clf',   LogisticRegression())\n",
    "])\n",
    "pipe2.fit(X_train, y_train)\n",
    "\n",
    "y_pred = pipe2.predict(X_test)\n",
    "print(\"Test Accuracy:\", accuracy_score(y_test, y_pred))\n"
   ]
  },
  {
   "cell_type": "code",
   "execution_count": 38,
   "id": "69e20b67",
   "metadata": {},
   "outputs": [
    {
     "name": "stdout",
     "output_type": "stream",
     "text": [
      "Top 10 features:\n",
      "said: 7.943755141771254\n",
      "cruz: 2.93321132026225\n",
      "says: 2.907093336839406\n",
      "state: 2.873533366064514\n",
      "sanders: 2.6483833987626593\n",
      "debate: 2.5384301414786523\n",
      "candidates: 2.5225852259546833\n",
      "president: 2.459059383470335\n",
      "gop: 2.4301141638754307\n",
      "conservative: 2.4265650705562147\n"
     ]
    }
   ],
   "source": [
    "vectorizer = pipe2.named_steps['tfidf']\n",
    "clf = pipe2.named_steps['clf']\n",
    "\n",
    "features = vectorizer.get_feature_names_out()\n",
    "coefs = clf.coef_[0]\n",
    "\n",
    "indices = np.argsort(coefs)[::-1][:10]\n",
    "print(\"Top 10 features:\")\n",
    "for i in indices:\n",
    "    print(f\"{features[i]}: {coefs[i]}\")"
   ]
  },
  {
   "cell_type": "markdown",
   "id": "894b1139",
   "metadata": {},
   "source": [
    "* coeficiente > 0 → classe clf.classes_[1]\n",
    "* coeficiente < 0 → classe clf.classes_[0]\n",
    "\n",
    "Para problemas multiclasses (no modo “one‐vs‐rest” do LogisticRegression), clf.coef_ vem como uma matriz (n_classes, n_features), em que cada linha é o vetor de pesos de uma classe contra todas as outras. Basta percorrer cada linha para extrair as palavras que “puxam” para cada classe:\n",
    "\n",
    "```python\n",
    "# Célula extra: top features para cada classe em multiclass\n",
    "\n",
    "clf        = pipe_multiclass.named_steps['clf']\n",
    "vectorizer = pipe_multiclass.named_steps['tfidf']\n",
    "features   = vectorizer.get_feature_names_out()\n",
    "coefs      = clf.coef_            # shape = (n_classes, n_features)\n",
    "classes    = clf.classes_         # rótulos das classes\n",
    "\n",
    "for idx, label in enumerate(classes):\n",
    "    top_idx = np.argsort(coefs[idx])[::-1][:10]\n",
    "    print(f\"Top 10 palavras para classe {label}:\")\n",
    "    for i in top_idx:\n",
    "        print(f\"  {features[i]}: {coefs[idx][i]:.4f}\")\n",
    "    print()\n",
    "```"
   ]
  },
  {
   "cell_type": "code",
   "execution_count": 39,
   "id": "682ed6c5",
   "metadata": {},
   "outputs": [
    {
     "name": "stdout",
     "output_type": "stream",
     "text": [
      "Test Accuracy: 0.6448956716675289\n"
     ]
    }
   ],
   "source": [
    "X_train, y_train = df_2['Text'], df_2['label']\n",
    "X_test, y_test   = df['title'], df['real']\n",
    "\n",
    "pipe3 = Pipeline([\n",
    "    ('tfidf', TfidfVectorizer()),\n",
    "    ('clf',   LogisticRegression())\n",
    "])\n",
    "pipe3.fit(X_train, y_train)\n",
    "\n",
    "y_pred = pipe3.predict(X_test)\n",
    "print(\"Test Accuracy:\", accuracy_score(y_test, y_pred))"
   ]
  },
  {
   "cell_type": "code",
   "execution_count": 40,
   "id": "1c70e359",
   "metadata": {},
   "outputs": [
    {
     "name": "stdout",
     "output_type": "stream",
     "text": [
      "Top 10 features:\n",
      "said: 11.145925903318746\n",
      "reuters: 7.924675900865941\n",
      "on: 5.206562436742969\n",
      "washington: 4.9900478411850475\n",
      "president: 3.4506006799932547\n",
      "in: 2.9151255145374857\n",
      "senate: 2.8632878637116597\n",
      "republican: 2.854094363516202\n",
      "house: 2.8482007669064378\n",
      "tax: 2.803505412363487\n"
     ]
    }
   ],
   "source": [
    "vectorizer = pipe3.named_steps['tfidf']\n",
    "clf = pipe3.named_steps['clf']\n",
    "\n",
    "features = vectorizer.get_feature_names_out()\n",
    "coefs = clf.coef_[0]\n",
    "\n",
    "indices = np.argsort(coefs)[::-1][:10]\n",
    "print(\"Top 10 features:\")\n",
    "for i in indices:\n",
    "    print(f\"{features[i]}: {coefs[i]}\")"
   ]
  }
 ],
 "metadata": {
  "kernelspec": {
   "display_name": "env",
   "language": "python",
   "name": "python3"
  },
  "language_info": {
   "codemirror_mode": {
    "name": "ipython",
    "version": 3
   },
   "file_extension": ".py",
   "mimetype": "text/x-python",
   "name": "python",
   "nbconvert_exporter": "python",
   "pygments_lexer": "ipython3",
   "version": "3.11.9"
  }
 },
 "nbformat": 4,
 "nbformat_minor": 5
}
