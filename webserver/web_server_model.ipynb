{
 "cells": [
  {
   "cell_type": "code",
   "execution_count": 16,
   "id": "6150bfda",
   "metadata": {},
   "outputs": [],
   "source": [
    "import pandas as pd\n",
    "from sklearn.model_selection import train_test_split\n",
    "from sklearn.feature_extraction.text import CountVectorizer, TfidfVectorizer\n",
    "from sklearn.linear_model import LogisticRegression\n",
    "from sklearn.pipeline import Pipeline\n",
    "from sklearn.metrics import classification_report\n",
    "import os\n",
    "import json"
   ]
  },
  {
   "cell_type": "code",
   "execution_count": 24,
   "id": "f69e5b02",
   "metadata": {},
   "outputs": [
    {
     "data": {
      "text/html": [
       "<div>\n",
       "<style scoped>\n",
       "    .dataframe tbody tr th:only-of-type {\n",
       "        vertical-align: middle;\n",
       "    }\n",
       "\n",
       "    .dataframe tbody tr th {\n",
       "        vertical-align: top;\n",
       "    }\n",
       "\n",
       "    .dataframe thead th {\n",
       "        text-align: right;\n",
       "    }\n",
       "</style>\n",
       "<table border=\"1\" class=\"dataframe\">\n",
       "  <thead>\n",
       "    <tr style=\"text-align: right;\">\n",
       "      <th></th>\n",
       "      <th>statement</th>\n",
       "      <th>status</th>\n",
       "    </tr>\n",
       "  </thead>\n",
       "  <tbody>\n",
       "    <tr>\n",
       "      <th>0</th>\n",
       "      <td>oh my gosh</td>\n",
       "      <td>Anxiety</td>\n",
       "    </tr>\n",
       "    <tr>\n",
       "      <th>1</th>\n",
       "      <td>trouble sleeping, confused mind, restless hear...</td>\n",
       "      <td>Anxiety</td>\n",
       "    </tr>\n",
       "    <tr>\n",
       "      <th>2</th>\n",
       "      <td>All wrong, back off dear, forward doubt. Stay ...</td>\n",
       "      <td>Anxiety</td>\n",
       "    </tr>\n",
       "    <tr>\n",
       "      <th>3</th>\n",
       "      <td>I've shifted my focus to something else but I'...</td>\n",
       "      <td>Anxiety</td>\n",
       "    </tr>\n",
       "    <tr>\n",
       "      <th>4</th>\n",
       "      <td>I'm restless and restless, it's been a month n...</td>\n",
       "      <td>Anxiety</td>\n",
       "    </tr>\n",
       "  </tbody>\n",
       "</table>\n",
       "</div>"
      ],
      "text/plain": [
       "                                           statement   status\n",
       "0                                         oh my gosh  Anxiety\n",
       "1  trouble sleeping, confused mind, restless hear...  Anxiety\n",
       "2  All wrong, back off dear, forward doubt. Stay ...  Anxiety\n",
       "3  I've shifted my focus to something else but I'...  Anxiety\n",
       "4  I'm restless and restless, it's been a month n...  Anxiety"
      ]
     },
     "execution_count": 24,
     "metadata": {},
     "output_type": "execute_result"
    }
   ],
   "source": [
    "df = pd.read_csv('Combined data.csv')\n",
    "df = df.drop(columns=['Unnamed: 0'])\n",
    "df = df.dropna()\n",
    "df.head()"
   ]
  },
  {
   "cell_type": "code",
   "execution_count": 25,
   "id": "af54f5f5",
   "metadata": {},
   "outputs": [
    {
     "data": {
      "text/plain": [
       "status\n",
       "Normal                  16343\n",
       "Depression              15404\n",
       "Suicidal                10652\n",
       "Anxiety                  3841\n",
       "Bipolar                  2777\n",
       "Stress                   2587\n",
       "Personality disorder     1077\n",
       "Name: count, dtype: int64"
      ]
     },
     "execution_count": 25,
     "metadata": {},
     "output_type": "execute_result"
    }
   ],
   "source": [
    "df['status'].value_counts()"
   ]
  },
  {
   "cell_type": "code",
   "execution_count": 31,
   "id": "980c60f7",
   "metadata": {},
   "outputs": [
    {
     "name": "stdout",
     "output_type": "stream",
     "text": [
      "                      precision    recall  f1-score   support\n",
      "\n",
      "             Anxiety       0.84      0.74      0.78       755\n",
      "             Bipolar       0.88      0.66      0.76       527\n",
      "          Depression       0.67      0.74      0.70      3016\n",
      "              Normal       0.84      0.94      0.89      3308\n",
      "Personality disorder       0.87      0.42      0.57       237\n",
      "              Stress       0.75      0.43      0.54       536\n",
      "            Suicidal       0.69      0.65      0.67      2158\n",
      "\n",
      "            accuracy                           0.76     10537\n",
      "           macro avg       0.79      0.65      0.70     10537\n",
      "        weighted avg       0.76      0.76      0.75     10537\n",
      "\n"
     ]
    }
   ],
   "source": [
    "X_train, X_test, y_train, y_test = train_test_split(df['statement'], df['status'], test_size=0.2, random_state=42)\n",
    "pipeline = Pipeline([\n",
    "    ('vec', TfidfVectorizer(stop_words='english')),\n",
    "    ('clf', LogisticRegression(max_iter=1000))\n",
    "])\n",
    "pipeline.fit(X_train, y_train)\n",
    "y_pred = pipeline.predict(X_test)\n",
    "print(classification_report(y_test, y_pred))"
   ]
  },
  {
   "cell_type": "code",
   "execution_count": null,
   "id": "d2185493",
   "metadata": {},
   "outputs": [
    {
     "name": "stdout",
     "output_type": "stream",
     "text": [
      "\n",
      "Classe 'Anxiety' — Top 10 termos:\n",
      "  anxiety              → 8.8858\n",
      "  restless             → 8.4171\n",
      "  anxious              → 6.6096\n",
      "  worried              → 6.0306\n",
      "  nervous              → 5.8620\n",
      "  worry                → 4.5810\n",
      "  restlessness         → 3.7713\n",
      "  health               → 3.7705\n",
      "  symptoms             → 3.6948\n",
      "  cancer               → 3.5671\n",
      "\n",
      "Classe 'Bipolar' — Top 10 termos:\n",
      "  bipolar              → 12.7955\n",
      "  manic                → 7.6727\n",
      "  mania                → 5.6517\n",
      "  meds                 → 5.5900\n",
      "  lamictal             → 5.5448\n",
      "  episode              → 5.4103\n",
      "  lithium              → 4.7613\n",
      "  hypomanic            → 4.5150\n",
      "  seroquel             → 4.1023\n",
      "  ve                   → 4.0036\n",
      "\n",
      "Classe 'Depression' — Top 10 termos:\n",
      "  depression           → 13.6120\n",
      "  wa                   → 8.1917\n",
      "  depressed            → 5.9729\n",
      "  doe                  → 4.2057\n",
      "  ha                   → 3.9086\n",
      "  http                 → 3.7170\n",
      "  pression             → 3.5481\n",
      "  na                   → 3.4479\n",
      "  anymore              → 3.3375\n",
      "  le                   → 3.2454\n",
      "\n",
      "Classe 'Normal' — Top 10 termos:\n",
      "  wa                   → 3.9074\n",
      "  url                  → 2.7017\n",
      "  ðÿ                   → 2.1985\n",
      "  eid                  → 2.0308\n",
      "  twitter              → 1.9866\n",
      "  met                  → 1.9824\n",
      "  yes                  → 1.9191\n",
      "  quot                 → 1.7711\n",
      "  didn                 → 1.7370\n",
      "  don                  → 1.6053\n",
      "\n",
      "Classe 'Personality disorder' — Top 10 termos:\n",
      "  avpd                 → 12.0696\n",
      "  avoidant             → 3.9694\n",
      "  people               → 3.9658\n",
      "  don                  → 3.7792\n",
      "  poll                 → 3.7619\n",
      "  social               → 3.5451\n",
      "  ve                   → 2.9518\n",
      "  avoid                → 2.6635\n",
      "  person               → 2.5807\n",
      "  didn                 → 2.3241\n",
      "\n",
      "Classe 'Stress' — Top 10 termos:\n",
      "  stress               → 9.1797\n",
      "  stressed             → 4.9578\n",
      "  tl                   → 3.8744\n",
      "  ptsd                 → 3.8103\n",
      "  dr                   → 3.5002\n",
      "  https                → 3.3495\n",
      "  don                  → 3.3021\n",
      "  ve                   → 2.5202\n",
      "  abuse                → 2.4869\n",
      "  boyfriend            → 2.3658\n",
      "\n",
      "Classe 'Suicidal' — Top 10 termos:\n",
      "  suicidal             → 6.7580\n",
      "  suicide              → 6.7053\n",
      "  https                → 6.0867\n",
      "  kill                 → 5.6609\n",
      "  die                  → 5.3710\n",
      "  anymore              → 4.3961\n",
      "  rt                   → 4.0435\n",
      "  iâ                   → 3.8993\n",
      "  end                  → 3.6509\n",
      "  gun                  → 3.4239\n"
     ]
    }
   ],
   "source": [
    "feature_names = pipeline.named_steps['vec'].get_feature_names_out()\n",
    "coefs = pipeline.named_steps['clf'].coef_\n",
    "class_labels = pipeline.named_steps['clf'].classes_\n",
    "\n",
    "import numpy as np\n",
    "\n",
    "for i, classe in enumerate(class_labels):\n",
    "    top10_idx = np.argsort(coefs[i])[-10:]\n",
    "    top10_terms = feature_names[top10_idx]\n",
    "    top10_weights = coefs[i][top10_idx]\n",
    "    print(f\"\\nClasse '{classe}' — Top 10 termos:\")\n",
    "    for termo, peso in zip(top10_terms[::-1], top10_weights[::-1]):\n",
    "        print(f\"  {termo:20s} → {peso:.4f}\")\n"
   ]
  },
  {
   "cell_type": "code",
   "execution_count": 33,
   "id": "18e2b536",
   "metadata": {},
   "outputs": [
    {
     "name": "stdout",
     "output_type": "stream",
     "text": [
      "\n",
      "Top 10 termos mais discriminativos (por magnitude):\n",
      "  depression           → 13.6120\n",
      "  bipolar              → 12.7955\n",
      "  don                  → 12.2364\n",
      "  avpd                 → 12.0696\n",
      "  ve                   → 9.4356\n",
      "  stress               → 9.1797\n",
      "  anxiety              → 8.8858\n",
      "  restless             → 8.4171\n",
      "  wa                   → 8.1917\n",
      "  manic                → 7.6727\n"
     ]
    }
   ],
   "source": [
    "# pega o máximo absoluto do coeficiente em qualquer classe\n",
    "max_abs = np.max(np.abs(coefs), axis=0)\n",
    "top_overall_idx = np.argsort(max_abs)[-10:]\n",
    "print(\"\\nTop 10 termos mais discriminativos (por magnitude):\")\n",
    "for idx in top_overall_idx[::-1]:\n",
    "    print(f\"  {feature_names[idx]:20s} → {max_abs[idx]:.4f}\")\n"
   ]
  },
  {
   "cell_type": "code",
   "execution_count": null,
   "id": "9892a846",
   "metadata": {},
   "outputs": [],
   "source": []
  }
 ],
 "metadata": {
  "kernelspec": {
   "display_name": "env",
   "language": "python",
   "name": "python3"
  },
  "language_info": {
   "codemirror_mode": {
    "name": "ipython",
    "version": 3
   },
   "file_extension": ".py",
   "mimetype": "text/x-python",
   "name": "python",
   "nbconvert_exporter": "python",
   "pygments_lexer": "ipython3",
   "version": "3.12.3"
  }
 },
 "nbformat": 4,
 "nbformat_minor": 5
}
