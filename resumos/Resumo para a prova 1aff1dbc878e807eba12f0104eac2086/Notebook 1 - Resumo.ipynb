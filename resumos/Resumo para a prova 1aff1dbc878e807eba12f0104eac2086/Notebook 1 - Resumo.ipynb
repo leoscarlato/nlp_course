{
 "cells": [
  {
   "cell_type": "markdown",
   "metadata": {},
   "source": [
    "# Notebook 1 - Regex\n",
    "\n",
    "| **Regex** | **Definição** |\n",
    "| --- | --- |\n",
    "| ? | Caractere opcional (Ex.: `aa?bb?cc?` - poderia ser `“abc”`, `“aabc”`, `“abbc”`,…) |\n",
    "| + | Uma ou mais ocorrências do símbolo anterior (Ex.: `[aA][bB]c+` - poderia ser `“ABcccc”` , `“aBc”` … |\n",
    "| * | Zero ou mais ocorrências do símbolo anterior, basicamente pode estar ou não (Ex.: `[aA][bB]c*` - poderia ser `“ab”` , `“abc”`, … |\n",
    "| [A-Z] | É um range dos caracteres permitidos (neste caso por exemplo são todas as letras maiúsculas - poderia ser `[A-Za-z]` para incluir as minúsculas)  |\n",
    "| [0-9] | É um range dos números permitidos |\n",
    "| \\w | Qualquer caractere que pode formar uma palavra |\n",
    "| \\d | Qualquer digito |"
   ]
  }
 ],
 "metadata": {
  "language_info": {
   "name": "python"
  }
 },
 "nbformat": 4,
 "nbformat_minor": 2
}
